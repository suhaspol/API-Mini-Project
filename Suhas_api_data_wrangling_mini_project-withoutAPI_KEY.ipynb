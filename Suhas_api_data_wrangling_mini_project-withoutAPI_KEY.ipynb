{
 "cells": [
  {
   "cell_type": "markdown",
   "metadata": {},
   "source": [
    "This exercise will require you to pull some data from the Qunadl API. Qaundl is currently the most widely used aggregator of financial market data."
   ]
  },
  {
   "cell_type": "markdown",
   "metadata": {},
   "source": [
    "As a first step, you will need to register a free account on the http://www.quandl.com website."
   ]
  },
  {
   "cell_type": "markdown",
   "metadata": {},
   "source": [
    "After you register, you will be provided with a unique API key, that you should store:"
   ]
  },
  {
   "cell_type": "code",
   "execution_count": 2,
   "metadata": {},
   "outputs": [],
   "source": [
    "# Store the API key as a string - according to PEP8, constants are always named in all upper case\n",
    "API_KEY = ''"
   ]
  },
  {
   "cell_type": "markdown",
   "metadata": {},
   "source": [
    "Qaundl has a large number of data sources, but, unfortunately, most of them require a Premium subscription. Still, there are also a good number of free datasets."
   ]
  },
  {
   "cell_type": "markdown",
   "metadata": {},
   "source": [
    "For this mini project, we will focus on equities data from the Frankfurt Stock Exhange (FSE), which is available for free. We'll try and analyze the stock prices of a company called Carl Zeiss Meditec, which manufactures tools for eye examinations, as well as medical lasers for laser eye surgery: https://www.zeiss.com/meditec/int/home.html. The company is listed under the stock ticker AFX_X."
   ]
  },
  {
   "cell_type": "markdown",
   "metadata": {},
   "source": [
    "You can find the detailed Quandl API instructions here: https://docs.quandl.com/docs/time-series"
   ]
  },
  {
   "cell_type": "markdown",
   "metadata": {},
   "source": [
    "While there is a dedicated Python package for connecting to the Quandl API, we would prefer that you use the *requests* package, which can be easily downloaded using *pip* or *conda*. You can find the documentation for the package here: http://docs.python-requests.org/en/master/ "
   ]
  },
  {
   "cell_type": "markdown",
   "metadata": {},
   "source": [
    "Finally, apart from the *requests* package, you are encouraged to not use any third party Python packages, such as *pandas*, and instead focus on what's available in the Python Standard Library (the *collections* module might come in handy: https://pymotw.com/3/collections/ ).\n",
    "Also, since you won't have access to DataFrames, you are encouraged to us Python's native data structures - preferably dictionaries, though some questions can also be answered using lists.\n",
    "You can read more on these data structures here: https://docs.python.org/3/tutorial/datastructures.html"
   ]
  },
  {
   "cell_type": "markdown",
   "metadata": {},
   "source": [
    "Keep in mind that the JSON responses you will be getting from the API map almost one-to-one to Python's dictionaries. Unfortunately, they can be very nested, so make sure you read up on indexing dictionaries in the documentation provided above."
   ]
  },
  {
   "cell_type": "code",
   "execution_count": 3,
   "metadata": {},
   "outputs": [],
   "source": [
    "# First, import the relevant modules\n",
    "import requests\n",
    "import json\n"
   ]
  },
  {
   "cell_type": "code",
   "execution_count": 4,
   "metadata": {},
   "outputs": [],
   "source": [
    "# Now, call the Quandl API and pull out a small sample of the data (only one day) to get a glimpse\n",
    "# into the JSON structure that will be returned\n",
    "\n",
    "url=\"https://www.quandl.com/api/v3/datasets/FSE/AFX_X.json?&start_date=2017-01-04&end_date=2017-01-05&api_key=\"+API_KEY\n",
    "\n",
    "r=requests.get(url)\n",
    "sample_json_data=r.json()\n",
    "\n"
   ]
  },
  {
   "cell_type": "code",
   "execution_count": 6,
   "metadata": {},
   "outputs": [
    {
     "name": "stdout",
     "output_type": "stream",
     "text": [
      "dataset: {'id': 10095370, 'dataset_code': 'AFX_X', 'database_code': 'FSE', 'name': 'Carl Zeiss Meditec (AFX_X)', 'description': 'Stock Prices for Carl Zeiss Meditec (2020-04-15) from the Frankfurt Stock Exchange.<br><br>Trading System: Xetra<br><br>ISIN: DE0005313704', 'refreshed_at': '2020-04-29T22:16:41.504Z', 'newest_available_date': '2020-04-29', 'oldest_available_date': '2000-06-07', 'column_names': ['Date', 'Open', 'High', 'Low', 'Close', 'Change', 'Traded Volume', 'Turnover', 'Last Price of the Day', 'Daily Traded Units', 'Daily Turnover'], 'frequency': 'daily', 'type': 'Time Series', 'premium': False, 'limit': None, 'transform': None, 'column_index': None, 'start_date': '2017-01-04', 'end_date': '2017-01-05', 'data': [['2017-01-05', 35.02, 35.2, 34.73, 35.06, None, 48412.0, 1692326.0, None, None, None], ['2017-01-04', 35.48, 35.51, 34.75, 35.19, None, 54408.0, 1906810.0, None, None, None]], 'collapse': None, 'order': None, 'database_id': 6129}\n"
     ]
    }
   ],
   "source": [
    "# Inspect the JSON structure of the object you created, and take note of how nested it is,\n",
    "# as well as the overall structure\n",
    "\n",
    "for key, value in sample_json_data.items():\n",
    "    print(key +':', value)\n"
   ]
  },
  {
   "cell_type": "markdown",
   "metadata": {},
   "source": [
    "These are your tasks for this mini project:\n",
    "\n",
    "1. Collect data from the Franfurt Stock Exchange, for the ticker AFX_X, for the whole year 2017 (keep in mind that the date format is YYYY-MM-DD).\n",
    "2. Convert the returned JSON object into a Python dictionary.\n",
    "3. Calculate what the highest and lowest opening prices were for the stock in this period.\n",
    "4. What was the largest change in any one day (based on High and Low price)?\n",
    "5. What was the largest change between any two days (based on Closing Price)?\n",
    "6. What was the average daily trading volume during this year?\n",
    "7. (Optional) What was the median trading volume during this year. (Note: you may need to implement your own function for calculating the median.)"
   ]
  },
  {
   "cell_type": "code",
   "execution_count": 9,
   "metadata": {},
   "outputs": [],
   "source": [
    "#1. Collecting data from the Franfurt Stock Exchange, for the ticker AFX_X, for the whole year 2017 \n",
    "\n",
    "url=\"https://www.quandl.com/api/v3/datasets/FSE/AFX_X.json?&start_date=2017-01-01&end_date=2017-12-30&api_key=\"+API_KEY\n",
    "\n",
    "r=requests.get(url)"
   ]
  },
  {
   "cell_type": "code",
   "execution_count": 10,
   "metadata": {},
   "outputs": [],
   "source": [
    "#2. Converting the returned JSON object into a Python dictionary.\n",
    "json_data=r.json()"
   ]
  },
  {
   "cell_type": "code",
   "execution_count": 29,
   "metadata": {},
   "outputs": [],
   "source": [
    "data=(json_data['dataset']['data'])#slect data list from dictionary"
   ]
  },
  {
   "cell_type": "code",
   "execution_count": 72,
   "metadata": {},
   "outputs": [
    {
     "name": "stdout",
     "output_type": "stream",
     "text": [
      "For the year 2017, the highest AFX_X opening price is 53.11 .\n",
      "For the year 2017, the lowest AFX_X opening price is 34.12 .\n"
     ]
    }
   ],
   "source": [
    "#3. Calculating the highest and lowest opening prices for the stock in this period.\n",
    "\n",
    "max_open=max([element[1] for element in data if type(element[1]) is float])# 1 stands for open, check the vaules in key, 'columnn names'.\n",
    "print('The highest AFX_X opening price for 2014 was',max_highs,'.') \n",
    "\n",
    "min_open=min([element[1] for element in data if type(element[1]) is float ])# 1 stands for open, check the vaules in key, 'columnn names'.\n",
    "print('The lowest AFX_X opening price for 2017 was',min_highs,'.') \n"
   ]
  },
  {
   "cell_type": "code",
   "execution_count": 83,
   "metadata": {},
   "outputs": [
    {
     "name": "stdout",
     "output_type": "stream",
     "text": [
      "The highest AFX_X price change for the year 2017 was 2.81 .\n"
     ]
    }
   ],
   "source": [
    "#4. Largest change in any one day (based on High and Low price)\n",
    "\n",
    "max_change=max([element[2]- element[3] for element in data if (type(element[2]) and type(element[3])) is float])# 2 and 3 stand for high and low, respectivley, check the vaules in key, 'columnn names'.\n",
    "print('The highest AFX_X price change for the year 2017 was',str(round(max_change, 2)),'.') "
   ]
  },
  {
   "cell_type": "code",
   "execution_count": 96,
   "metadata": {},
   "outputs": [
    {
     "name": "stdout",
     "output_type": "stream",
     "text": [
      "The largest AFX_X closing price change for the year 2017 was 2.56 .\n"
     ]
    }
   ],
   "source": [
    "#5. Largest change between any two days (based on Closing Price)\n",
    "\n",
    "a=[element[4] for element in data if type(element[4]) is float] #close price list\n",
    "max_closing_change=max([abs(x - a[i - 1]) for i, x in enumerate(a) if i > 0])\n",
    "print('The largest AFX_X closing price change for the year 2017 was',str(round(max_closing_change, 2)),'.') "
   ]
  },
  {
   "cell_type": "code",
   "execution_count": 103,
   "metadata": {},
   "outputs": [
    {
     "name": "stdout",
     "output_type": "stream",
     "text": [
      "The average AFX_X daily trading volume for the year 2017 was 89124.0 .\n"
     ]
    }
   ],
   "source": [
    "#6. Average daily Trading Volume\n",
    "\n",
    "trading_volume=[element[6] for element in data if type(element[6]) is float] #trading volume vector\n",
    "avg_trading=sum(trading_volume)/len(trading_volume)\n",
    "print('The average AFX_X daily trading volume for the year 2017 was',str(round(avg_trading, 0)),'.') "
   ]
  },
  {
   "cell_type": "code",
   "execution_count": 121,
   "metadata": {},
   "outputs": [
    {
     "name": "stdout",
     "output_type": "stream",
     "text": [
      "The median AFX_X daily trading volume for the year 2017 was 76286.0 .\n"
     ]
    }
   ],
   "source": [
    "#6. Median daily Trading Volume\n",
    "\n",
    "def median_calc(x):\n",
    "    y=sorted(x)\n",
    "    if len(y)%2==0:\n",
    "        med=(y[int(len(y)/2)-1]+y[int(len(y)/2)])/2\n",
    "    else:\n",
    "        med=y[int(len(y)/2)]\n",
    "    return med\n",
    "\n",
    "median_trading=median_calc(trading_volume)\n",
    "print('The median AFX_X daily trading volume for the year 2017 was',str(round(median_trading, 0)),'.')"
   ]
  }
 ],
 "metadata": {
  "kernelspec": {
   "display_name": "Python 3",
   "language": "python",
   "name": "python3"
  },
  "language_info": {
   "codemirror_mode": {
    "name": "ipython",
    "version": 3
   },
   "file_extension": ".py",
   "mimetype": "text/x-python",
   "name": "python",
   "nbconvert_exporter": "python",
   "pygments_lexer": "ipython3",
   "version": "3.7.4"
  }
 },
 "nbformat": 4,
 "nbformat_minor": 2
}
